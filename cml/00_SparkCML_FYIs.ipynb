{
 "cells": [
  {
   "cell_type": "markdown",
   "id": "68e12048-0f36-42f0-a7c6-de651207aa53",
   "metadata": {},
   "source": [
    "## Launch the Spark Application with Spark Data Connection"
   ]
  },
  {
   "cell_type": "code",
   "execution_count": null,
   "id": "7199615a-b46a-402b-95d2-1c247ee85c00",
   "metadata": {},
   "outputs": [],
   "source": [
    "import cml.data_v1 as cmldata\n",
    "\n",
    "CONNECTION_NAME = \"go01-aw-dl\"\n",
    "conn = cmldata.get_connection(CONNECTION_NAME)\n",
    "spark = conn.get_spark_session()\n",
    "\n",
    "# Sample usage to run query through spark\n",
    "EXAMPLE_SQL_QUERY = \"show databases\"\n",
    "spark.sql(EXAMPLE_SQL_QUERY).show()"
   ]
  },
  {
   "cell_type": "markdown",
   "id": "78ecf8cb-8dbd-49f6-ae58-2da8a94b43a1",
   "metadata": {},
   "source": [
    "## Reaching the Spark UI"
   ]
  },
  {
   "cell_type": "code",
   "execution_count": 1,
   "id": "425349e3-e3df-4e21-99f0-d9ea9bb8ba30",
   "metadata": {},
   "outputs": [
    {
     "name": "stdout",
     "output_type": "stream",
     "text": [
      "https://spark-2mwuf36mfmzr795c.ml-4c5feac0-3ec.go01-dem.ylcu-atmi.cloudera.site\n"
     ]
    }
   ],
   "source": [
    "import os\n",
    "print(\"https://spark-\"+os.environ[\"CDSW_ENGINE_ID\"]+\".\"+os.environ[\"CDSW_DOMAIN\"])"
   ]
  }
 ],
 "metadata": {
  "kernelspec": {
   "display_name": "Python 3 (ipykernel)",
   "language": "python",
   "name": "python3"
  },
  "language_info": {
   "codemirror_mode": {
    "name": "ipython",
    "version": 3
   },
   "file_extension": ".py",
   "mimetype": "text/x-python",
   "name": "python",
   "nbconvert_exporter": "python",
   "pygments_lexer": "ipython3",
   "version": "3.7.13"
  }
 },
 "nbformat": 4,
 "nbformat_minor": 5
}
