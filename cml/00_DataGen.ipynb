{
 "cells": [
  {
   "cell_type": "code",
   "execution_count": 3,
   "id": "3b7a6987-0008-49b8-9ba7-151842912bcc",
   "metadata": {
    "tags": []
   },
   "outputs": [],
   "source": [
    "#****************************************************************************\n",
    "# (C) Cloudera, Inc. 2020-2023\n",
    "#  All rights reserved.\n",
    "#\n",
    "#  Applicable Open Source License: GNU Affero General Public License v3.0\n",
    "#\n",
    "#  NOTE: Cloudera open source products are modular software products\n",
    "#  made up of hundreds of individual components, each of which was\n",
    "#  individually copyrighted.  Each Cloudera open source product is a\n",
    "#  collective work under U.S. Copyright Law. Your license to use the\n",
    "#  collective work is as provided in your written agreement with\n",
    "#  Cloudera.  Used apart from the collective work, this file is\n",
    "#  licensed for your use pursuant to the open source license\n",
    "#  identified above.\n",
    "#\n",
    "#  This code is provided to you pursuant a written agreement with\n",
    "#  (i) Cloudera, Inc. or (ii) a third-party authorized to distribute\n",
    "#  this code. If you do not have a written agreement with Cloudera nor\n",
    "#  with an authorized and properly licensed third party, you do not\n",
    "#  have any rights to access nor to use this code.\n",
    "#\n",
    "#  Absent a written agreement with Cloudera, Inc. (“Cloudera”) to the\n",
    "#  contrary, A) CLOUDERA PROVIDES THIS CODE TO YOU WITHOUT WARRANTIES OF ANY\n",
    "#  KIND; (B) CLOUDERA DISCLAIMS ANY AND ALL EXPRESS AND IMPLIED\n",
    "#  WARRANTIES WITH RESPECT TO THIS CODE, INCLUDING BUT NOT LIMITED TO\n",
    "#  IMPLIED WARRANTIES OF TITLE, NON-INFRINGEMENT, MERCHANTABILITY AND\n",
    "#  FITNESS FOR A PARTICULAR PURPOSE; (C) CLOUDERA IS NOT LIABLE TO YOU,\n",
    "#  AND WILL NOT DEFEND, INDEMNIFY, NOR HOLD YOU HARMLESS FOR ANY CLAIMS\n",
    "#  ARISING FROM OR RELATED TO THE CODE; AND (D)WITH RESPECT TO YOUR EXERCISE\n",
    "#  OF ANY RIGHTS GRANTED TO YOU FOR THE CODE, CLOUDERA IS NOT LIABLE FOR ANY\n",
    "#  DIRECT, INDIRECT, INCIDENTAL, SPECIAL, EXEMPLARY, PUNITIVE OR\n",
    "#  CONSEQUENTIAL DAMAGES INCLUDING, BUT NOT LIMITED TO, DAMAGES\n",
    "#  RELATED TO LOST REVENUE, LOST PROFITS, LOSS OF INCOME, LOSS OF\n",
    "#  BUSINESS ADVANTAGE OR UNAVAILABILITY, OR LOSS OR CORRUPTION OF\n",
    "#  DATA.\n",
    "#\n",
    "# #  Author(s): Paul de Fusco\n",
    "#***************************************************************************/"
   ]
  },
  {
   "cell_type": "code",
   "execution_count": 4,
   "id": "dfdd1f48-94ab-4c43-9bb4-ce566f451ce2",
   "metadata": {
    "tags": []
   },
   "outputs": [],
   "source": [
    "import os\n",
    "import numpy as np\n",
    "import pandas as pd\n",
    "from datetime import datetime\n",
    "import dbldatagen as dg\n",
    "import dbldatagen.distributions as dist\n",
    "from dbldatagen import FakerTextFactory, DataGenerator, fakerText\n",
    "from faker.providers import bank, credit_card, currency\n",
    "from pyspark.sql.types import LongType, FloatType, IntegerType, StringType, \\\n",
    "                              DoubleType, BooleanType, ShortType, \\\n",
    "                              TimestampType, DateType, DecimalType, \\\n",
    "                              ByteType, BinaryType, ArrayType, MapType, \\\n",
    "                              StructType, StructField\n",
    "\n",
    "class BankDataGen:\n",
    "\n",
    "    '''Class to Generate Banking Data'''\n",
    "\n",
    "    def __init__(self, spark):\n",
    "        self.spark = spark\n",
    "\n",
    "    def transactionsDataGen(self, shuffle_partitions_requested = 10, partitions_requested = 10, data_rows = 10000):\n",
    "\n",
    "        # setup use of Faker\n",
    "        FakerTextUS = FakerTextFactory(locale=['en_US'], providers=[bank])\n",
    "\n",
    "        # partition parameters etc.\n",
    "        self.spark.conf.set(\"spark.sql.shuffle.partitions\", shuffle_partitions_requested)\n",
    "\n",
    "        fakerDataspec = (DataGenerator(self.spark, rows=data_rows, partitions=partitions_requested, randomSeed=42)\n",
    "                    .withColumn(\"credit_card_number\", \"int\", minValue=12345678901234, maxValue=-123456789012340, step=1)\n",
    "                    .withColumn(\"credit_card_provider\", text=FakerTextUS(\"credit_card_provider\") )\n",
    "                    .withColumn(\"transaction_type\", \"string\", values=[\"purchase\", \"cash_advance\"], random=True, weights=[9, 1])\n",
    "                    .withColumn(\"event_ts\", \"timestamp\", begin=\"2023-01-01 01:00:00\",end=\"2023-12-31 23:59:00\",interval=\"1 minute\", random=True)\n",
    "                    .withColumn(\"longitude\", \"float\", minValue=-125, maxValue=-66.9345, random=True)\n",
    "                    .withColumn(\"latitude\", \"float\", minValue=24.3963, maxValue=49.3843, random=True)\n",
    "                    .withColumn(\"transaction_currency\", values=[\"USD\", \"EUR\", \"KWD\", \"BHD\", \"GBP\", \"CHF\", \"MEX\"])\n",
    "                    .withColumn(\"transaction_amount\", \"decimal\", minValue=0.01, maxValue=30000, random=True)\n",
    "                    )\n",
    "\n",
    "        df = fakerDataspec.build()\n",
    "\n",
    "        df = df.withColumn('credit_card_number', df['credit_card_number'].cast(StringType()))\n",
    "\n",
    "        return df\n",
    "\n",
    "\n",
    "    def piiDataGen(self, shuffle_partitions_requested = 10, partitions_requested = 10, data_rows = 10000):\n",
    "\n",
    "        # setup use of Faker\n",
    "        FakerTextUS = FakerTextFactory(locale=['en_US'], providers=[bank])\n",
    "\n",
    "        # partition parameters etc.\n",
    "        self.spark.conf.set(\"spark.sql.shuffle.partitions\", shuffle_partitions_requested)\n",
    "\n",
    "        fakerDataspec = (DataGenerator(self.spark, rows=data_rows, partitions=partitions_requested, randomSeed=42)\n",
    "                    .withColumn(\"name\", percentNulls=0.1, text=FakerTextUS(\"name\") )\n",
    "                    .withColumn(\"address\", text=FakerTextUS(\"address\" ))\n",
    "                    .withColumn(\"email\", text=FakerTextUS(\"ascii_company_email\") )\n",
    "                    .withColumn(\"aba_routing\", text=FakerTextUS(\"aba\" ))\n",
    "                    .withColumn(\"bank_country\", text=FakerTextUS(\"bank_country\") )\n",
    "                    .withColumn(\"account_no\", text=FakerTextUS(\"bban\" ))\n",
    "                    .withColumn(\"int_account_no\", text=FakerTextUS(\"iban\") )\n",
    "                    .withColumn(\"swift11\", text=FakerTextUS(\"swift11\" ))\n",
    "                    .withColumn(\"credit_card_number\", \"int\", minValue=12345678901234, maxValue=-123456789012340, step=1)\n",
    "                    )\n",
    "\n",
    "        df = fakerDataspec.build()\n",
    "\n",
    "        df = df.withColumn('credit_card_number', df['credit_card_number'].cast(StringType()))\n",
    "\n",
    "\n",
    "        return df\n",
    "\n",
    "\n",
    "    def sameCardDataGen(self, shuffle_partitions_requested = 10, partitions_requested = 10, data_rows = 10000000):\n",
    "\n",
    "        # setup use of Faker\n",
    "        FakerTextUS = FakerTextFactory(locale=['en_US'], providers=[bank])\n",
    "\n",
    "        # partition parameters etc.\n",
    "        self.spark.conf.set(\"spark.sql.shuffle.partitions\", shuffle_partitions_requested)\n",
    "\n",
    "        fakerDataspec = (DataGenerator(self.spark, rows=data_rows, partitions=partitions_requested, randomSeed=42)\n",
    "                    .withColumn(\"credit_card_number\", \"string\", values=[\"12345678901234\"])\n",
    "                    .withColumn(\"credit_card_provider\", text=FakerTextUS(\"credit_card_provider\") )\n",
    "                    .withColumn(\"transaction_type\", \"string\", values=[\"purchase\", \"cash_advance\"], random=True, weights=[9, 1])\n",
    "                    .withColumn(\"event_ts\", \"timestamp\", begin=\"2023-01-01 01:00:00\",end=\"2023-12-31 23:59:00\",interval=\"1 minute\", random=True)\n",
    "                    .withColumn(\"longitude\", \"float\", minValue=-125, maxValue=-66.9345, random=True)\n",
    "                    .withColumn(\"latitude\", \"float\", minValue=24.3963, maxValue=49.3843, random=True)\n",
    "                    .withColumn(\"transaction_currency\", values=[\"USD\", \"EUR\", \"KWD\", \"BHD\", \"GBP\", \"CHF\", \"MEX\"])\n",
    "                    .withColumn(\"transaction_amount\", \"decimal\", minValue=0.01, maxValue=30000, random=True)\n",
    "                    )\n",
    "\n",
    "        df = fakerDataspec.build()\n",
    "\n",
    "        #df = df.withColumn('credit_card_number', df['credit_card_number'].cast(StringType()))\n",
    "\n",
    "        return df\n",
    "        "
   ]
  },
  {
   "cell_type": "code",
   "execution_count": 5,
   "id": "0487f597-6e82-4c85-8678-793e5c062a80",
   "metadata": {
    "tags": []
   },
   "outputs": [
    {
     "name": "stderr",
     "output_type": "stream",
     "text": [
      "Setting spark.hadoop.yarn.resourcemanager.principal to pauldefusco\n"
     ]
    },
    {
     "name": "stdout",
     "output_type": "stream",
     "text": [
      "Spark Application Id:spark-b9c0007e35074465b575499db0c1cc1c\n"
     ]
    },
    {
     "name": "stderr",
     "output_type": "stream",
     "text": [
      "                                                                                \r"
     ]
    }
   ],
   "source": [
    "import cml.data_v1 as cmldata\n",
    "\n",
    "# Sample in-code customization of spark configurations\n",
    "from pyspark import SparkContext\n",
    "SparkContext.setSystemProperty('spark.executor.cores', '1')\n",
    "SparkContext.setSystemProperty('spark.executor.memory', '2g')\n",
    "\n",
    "CONNECTION_NAME = \"paul-aug26-aw-dl\"\n",
    "conn = cmldata.get_connection(CONNECTION_NAME)\n",
    "spark = conn.get_spark_session()\n",
    "\n",
    "myDG = BankDataGen(spark)\n",
    "\n",
    "sameCardDf = myDG.sameCardDataGen()\n",
    "transactionsDf = myDG.transactionsDataGen()\n",
    "\n",
    "allTransDf = sameCardDf.union(transactionsDf)\n",
    "\n",
    "allTransDf.write.format(\"parquet\").mode(\"overwrite\").save(\"s3a://paul-aug26-buk-a3c2b50a/data/pdefusco/transactions/\")\n",
    "\n",
    "piiDf = myDG.piiDataGen()\n",
    "piiDf.write.format(\"csv\").option(\"header\",True).mode(\"overwrite\").save(\"s3a://paul-aug26-buk-a3c2b50a/data/pdefusco/pii/piiData.csv\")"
   ]
  },
  {
   "cell_type": "code",
   "execution_count": 6,
   "id": "02d3bde1-d85d-42fb-a7d6-d16485ffedb3",
   "metadata": {
    "tags": []
   },
   "outputs": [],
   "source": [
    "#allTransDf.count()"
   ]
  },
  {
   "cell_type": "code",
   "execution_count": 7,
   "id": "35a2f1c2-27d9-48db-a3ec-e11ccfb044b4",
   "metadata": {},
   "outputs": [
    {
     "name": "stderr",
     "output_type": "stream",
     "text": [
      "[Stage 4:>                                                          (0 + 1) / 1]\r"
     ]
    },
    {
     "name": "stdout",
     "output_type": "stream",
     "text": [
      "+------------------+--------+\n",
      "|credit_card_number|   count|\n",
      "+------------------+--------+\n",
      "|    12345678901234|10000000|\n",
      "|        1942892530|       1|\n",
      "|        2045911182|       1|\n",
      "|        2045911183|       1|\n",
      "|        2045911184|       1|\n",
      "|        2045911185|       1|\n",
      "|        2045911186|       1|\n",
      "|        2045911187|       1|\n",
      "|        2045911188|       1|\n",
      "|        2045911189|       1|\n",
      "|        2045911190|       1|\n",
      "|        2045911191|       1|\n",
      "|        2045911192|       1|\n",
      "|        2045911193|       1|\n",
      "|        2045911194|       1|\n",
      "|        2045911195|       1|\n",
      "|        2045911196|       1|\n",
      "|        2045911197|       1|\n",
      "|        2045911198|       1|\n",
      "|        2045911199|       1|\n",
      "+------------------+--------+\n",
      "only showing top 20 rows\n",
      "\n"
     ]
    },
    {
     "name": "stderr",
     "output_type": "stream",
     "text": [
      "                                                                                \r"
     ]
    }
   ],
   "source": [
    "allTransDf.groupBy(\"credit_card_number\").count().orderBy(\"credit_card_number\").show()"
   ]
  },
  {
   "cell_type": "code",
   "execution_count": 8,
   "id": "151331ff-786a-40b2-b0fc-d4a2cd25f3d4",
   "metadata": {},
   "outputs": [
    {
     "name": "stderr",
     "output_type": "stream",
     "text": [
      "[Stage 6:>                                                          (0 + 1) / 1]\r"
     ]
    },
    {
     "name": "stdout",
     "output_type": "stream",
     "text": [
      "+------------------+---------------------------+----------------+-------------------+---------+--------+--------------------+------------------+------------------+-------------------------------------------------------+----------------------------------+-----------+------------+------------------+----------------------+-----------+------------------+\n",
      "|credit_card_number|credit_card_provider       |transaction_type|event_ts           |longitude|latitude|transaction_currency|transaction_amount|name              |address                                                |email                             |aba_routing|bank_country|account_no        |int_account_no        |swift11    |credit_card_number|\n",
      "+------------------+---------------------------+----------------+-------------------+---------+--------+--------------------+------------------+------------------+-------------------------------------------------------+----------------------------------+-----------+------------+------------------+----------------------+-----------+------------------+\n",
      "|1942892530        |VISA 16 digit              |purchase        |2023-08-15 00:28:00|-89.0    |39.3963 |USD                 |18575             |Lisa Terrell      |6423 Ayala Mountain\\nNorth Ronald, VT 28621            |joshuagarcia@smith.info           |016234970  |GB          |EKST91147804817586|GB15KRUF33797122530593|PSBKGBPCS3V|1942892530        |\n",
      "|2045911182        |Maestro                    |purchase        |2023-07-06 00:36:00|-95.0    |36.3963 |EUR                 |15288             |John Lin          |32680 Johnson Course\\nJohnsonborough, IA 43295         |cynthia68@wilson.com              |076576393  |GB          |COCC90091447156354|GB43IPLW27650904158070|KFVAGBXESPQ|2045911182        |\n",
      "|2045911183        |JCB 15 digit               |purchase        |2023-10-31 21:05:00|-77.0    |44.3963 |KWD                 |24975             |Michael Gilmore   |8864 Olson Highway Apt. 883\\nNguyenburgh, MN 01231     |whitecameron@fox.com              |126649060  |GB          |LPOJ86908067531322|GB85MOZQ89455658411270|TOLJGB6QE5G|2045911183        |\n",
      "|2045911184        |Diners Club / Carte Blanche|purchase        |2023-04-07 02:37:00|-110.0   |30.3963 |BHD                 |7897              |Edward Bradley    |090 Kathy Common\\nFarrellberg, SD 08273                |heathervazquez@wood-jennings.biz  |121441771  |GB          |JOAB42430838606314|GB34FCNU68788300825458|SDZYGBHQOMJ|2045911184        |\n",
      "|2045911185        |American Express           |purchase        |2023-09-02 16:02:00|-86.0    |40.3963 |GBP                 |20108             |Sharon Phillips   |53584 Randall Ferry\\nGibsonfurt, WA 79495              |george75@perkins.com              |121458858  |GB          |GBUO22369893427628|GB09IDNK72301614268500|WAXPGB15SCO|2045911185        |\n",
      "|2045911186        |Mastercard                 |purchase        |2023-07-08 20:16:00|-95.0    |36.3963 |CHF                 |15519             |Sean Jones        |55450 Charles Viaduct\\nMartinbury, AK 61433            |ysmith@bowman-bray.com            |052734939  |GB          |INAM35349750459806|GB31WGAW65316629724163|VPQDGBJX4K7|2045911186        |\n",
      "|2045911187        |JCB 15 digit               |cash_advance    |2023-12-31 16:29:00|-67.0    |48.3963 |MEX                 |29973             |James Lee         |9154 Pacheco Pike\\nWest Philipview, FM 41406           |joshua43@marshall.com             |072791509  |GB          |APPJ60552323876130|GB41CVSD69242911453406|ZZSYGBI611Z|2045911187        |\n",
      "|2045911188        |Maestro                    |purchase        |2023-01-26 13:32:00|-121.0   |26.3963 |USD                 |2098              |null              |83675 Lopez Harbor Apt. 778\\nEast Jeremy, NJ 37881     |martinandrea@palmer.biz           |119721665  |GB          |TSOO59833087898468|GB40OPUL92035482944529|VGNYGB7JCWI|2045911188        |\n",
      "|2045911189        |VISA 16 digit              |cash_advance    |2023-12-20 22:19:00|-69.0    |47.3963 |EUR                 |29089             |Darlene Walton    |8270 Stephen Underpass Apt. 105\\nAmandafurt, WY 35034  |martin92@tran-white.net           |015893286  |GB          |QSXK10089058533353|GB58VGZZ42394164936212|HQSMGBPOGCB|2045911189        |\n",
      "|2045911190        |JCB 15 digit               |purchase        |2023-10-18 12:47:00|-79.0    |43.3963 |KWD                 |23878             |Cory Orozco       |7046 Fernando Stream Apt. 380\\nJenniferberg, MO 79111  |wademichael@olson.org             |018653724  |GB          |GDBU71577126092679|GB34FLPD10208739322004|QAERGBDZYG1|2045911190        |\n",
      "|2045911191        |Mastercard                 |purchase        |2023-06-13 16:45:00|-99.0    |35.3963 |BHD                 |13452             |Michael Yates     |64064 Jennifer Extensions\\nJonesfort, OH 67465         |williamlee@evans.org              |046273231  |GB          |BFPL23211360578296|GB45YWOU29123568886788|XVGXGB97TQZ|2045911191        |\n",
      "|2045911192        |Mastercard                 |purchase        |2023-09-05 23:49:00|-86.0    |40.3963 |GBP                 |20381             |Teresa Burns      |8252 Tracy Shores Suite 579\\nWhitebury, VA 64879       |edwardsjessica@garcia.com         |018048928  |GB          |CXEJ67702808462709|GB89RGDH56033196953630|OATQGB29M07|2045911192        |\n",
      "|2045911193        |Maestro                    |purchase        |2023-05-16 22:57:00|-103.0   |33.3963 |CHF                 |11172             |Jon Garcia        |087 Cathy Tunnel Suite 165\\nEast Hannah, MI 17680      |linda14@moses-bean.com            |093164953  |GB          |HGWS45593879812994|GB39HWBP78537032470345|ATOXGBXIWSN|2045911193        |\n",
      "|2045911194        |American Express           |purchase        |2023-10-31 21:49:00|-77.0    |44.3963 |MEX                 |24977             |Carolyn Cochran   |940 Meghan Pass Suite 227\\nWest Josephmouth, PA 74527  |roblesjoshua@woodard-griffin.org  |027009880  |GB          |DOOO55466304641730|GB89WSXA09506383686264|JQJYGBCMCYT|2045911194        |\n",
      "|2045911195        |JCB 16 digit               |purchase        |2023-10-01 00:20:00|-82.0    |42.3963 |USD                 |22438             |Tara Banks        |686 Padilla Knolls Suite 898\\nNorth Kevin, KS 79145    |kimberlywhite@flores.com          |128534322  |GB          |NXTR61208881369532|GB58UYTR57872714099109|YQVLGBVOSY7|2045911195        |\n",
      "|2045911196        |Maestro                    |purchase        |2023-09-21 09:39:00|-83.0    |41.3963 |EUR                 |21648             |Kyle Reynolds     |804 Victoria Dale Apt. 261\\nWalshborough, ND 54481     |patrickjoanne@chambers-collins.com|068441669  |GB          |MBLN61027370282284|GB68NLNS63266255952293|WDNMGBGF191|2045911196        |\n",
      "|2045911197        |VISA 16 digit              |purchase        |2023-01-06 21:36:00|-124.0   |24.3963 |KWD                 |482               |null              |792 Colin Via Suite 207\\nJenkinsport, MH 94274         |david87@cannon.biz                |038336885  |GB          |RZCA33803907875950|GB88ATVK60666617186339|EIIWGBGPZDS|2045911197        |\n",
      "|2045911198        |American Express           |purchase        |2023-08-19 05:24:00|-88.0    |39.3963 |BHD                 |18921             |Margaret Wilkinson|27149 Charles Junction Suite 778\\nEast Parker, MA 86481|kelli53@weaver.com                |125862903  |GB          |RHKW77962740409547|GB06PDRD63614499250215|CGVMGBSKYCA|2045911198        |\n",
      "|2045911199        |Mastercard                 |purchase        |2023-01-28 13:10:00|-121.0   |26.3963 |GBP                 |2261              |null              |047 Waters Valley Apt. 205\\nPort Nicholas, AS 79192    |thompsondaniel@anderson.net       |089137059  |GB          |JKDS55604646819924|GB83MZYJ41141734322068|ETTAGBS89E4|2045911199        |\n",
      "|2045911200        |JCB 16 digit               |purchase        |2023-11-03 05:11:00|-76.0    |44.3963 |CHF                 |25167             |Nancy Montes      |2862 Nicole Burgs\\nAndrewstad, NE 32549                |tammy42@curry.org                 |035298560  |GB          |VUEX69929162853918|GB80CQWA24711680810224|EJNSGBKJ2XI|2045911200        |\n",
      "+------------------+---------------------------+----------------+-------------------+---------+--------+--------------------+------------------+------------------+-------------------------------------------------------+----------------------------------+-----------+------------+------------------+----------------------+-----------+------------------+\n",
      "only showing top 20 rows\n",
      "\n"
     ]
    },
    {
     "name": "stderr",
     "output_type": "stream",
     "text": [
      "                                                                                \r"
     ]
    }
   ],
   "source": [
    "# Inner join\n",
    "transactionsDf.join(piiDf,transactionsDf.credit_card_number ==  piiDf.credit_card_number,\"inner\").show(truncate=False)"
   ]
  },
  {
   "cell_type": "code",
   "execution_count": 9,
   "id": "14369b41-865d-4c2f-bba8-5fed318d9fd2",
   "metadata": {},
   "outputs": [],
   "source": [
    "df_txn_details = (\n",
    "    allTransDf.join(\n",
    "        piiDf,\n",
    "        on=\"credit_card_number\",\n",
    "        how=\"inner\"\n",
    "    )\n",
    ")"
   ]
  },
  {
   "cell_type": "code",
   "execution_count": 10,
   "id": "74abe231-5f52-446b-9d92-f54ecfdcdcd5",
   "metadata": {},
   "outputs": [
    {
     "name": "stdout",
     "output_type": "stream",
     "text": [
      "time taken: 0.9432294368743896\n"
     ]
    }
   ],
   "source": [
    "import time\n",
    "start_time = time.time()\n",
    "df_txn_details.count()\n",
    "print(f\"time taken: {time.time() - start_time}\")"
   ]
  },
  {
   "cell_type": "code",
   "execution_count": null,
   "id": "03cf359e-c6f8-404b-bc95-6b61a470d086",
   "metadata": {},
   "outputs": [],
   "source": []
  },
  {
   "cell_type": "code",
   "execution_count": null,
   "id": "ea9f0f77-5467-4e55-bae8-c54d1c1c64da",
   "metadata": {},
   "outputs": [],
   "source": []
  }
 ],
 "metadata": {
  "kernelspec": {
   "display_name": "Python 3 (ipykernel)",
   "language": "python",
   "name": "python3"
  },
  "language_info": {
   "codemirror_mode": {
    "name": "ipython",
    "version": 3
   },
   "file_extension": ".py",
   "mimetype": "text/x-python",
   "name": "python",
   "nbconvert_exporter": "python",
   "pygments_lexer": "ipython3",
   "version": "3.10.13"
  }
 },
 "nbformat": 4,
 "nbformat_minor": 5
}
