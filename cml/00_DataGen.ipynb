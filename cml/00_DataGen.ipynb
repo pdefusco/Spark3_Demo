{
 "cells": [
  {
   "cell_type": "code",
   "execution_count": 2,
   "id": "3b7a6987-0008-49b8-9ba7-151842912bcc",
   "metadata": {},
   "outputs": [],
   "source": [
    "#****************************************************************************\n",
    "# (C) Cloudera, Inc. 2020-2023\n",
    "#  All rights reserved.\n",
    "#\n",
    "#  Applicable Open Source License: GNU Affero General Public License v3.0\n",
    "#\n",
    "#  NOTE: Cloudera open source products are modular software products\n",
    "#  made up of hundreds of individual components, each of which was\n",
    "#  individually copyrighted.  Each Cloudera open source product is a\n",
    "#  collective work under U.S. Copyright Law. Your license to use the\n",
    "#  collective work is as provided in your written agreement with\n",
    "#  Cloudera.  Used apart from the collective work, this file is\n",
    "#  licensed for your use pursuant to the open source license\n",
    "#  identified above.\n",
    "#\n",
    "#  This code is provided to you pursuant a written agreement with\n",
    "#  (i) Cloudera, Inc. or (ii) a third-party authorized to distribute\n",
    "#  this code. If you do not have a written agreement with Cloudera nor\n",
    "#  with an authorized and properly licensed third party, you do not\n",
    "#  have any rights to access nor to use this code.\n",
    "#\n",
    "#  Absent a written agreement with Cloudera, Inc. (“Cloudera”) to the\n",
    "#  contrary, A) CLOUDERA PROVIDES THIS CODE TO YOU WITHOUT WARRANTIES OF ANY\n",
    "#  KIND; (B) CLOUDERA DISCLAIMS ANY AND ALL EXPRESS AND IMPLIED\n",
    "#  WARRANTIES WITH RESPECT TO THIS CODE, INCLUDING BUT NOT LIMITED TO\n",
    "#  IMPLIED WARRANTIES OF TITLE, NON-INFRINGEMENT, MERCHANTABILITY AND\n",
    "#  FITNESS FOR A PARTICULAR PURPOSE; (C) CLOUDERA IS NOT LIABLE TO YOU,\n",
    "#  AND WILL NOT DEFEND, INDEMNIFY, NOR HOLD YOU HARMLESS FOR ANY CLAIMS\n",
    "#  ARISING FROM OR RELATED TO THE CODE; AND (D)WITH RESPECT TO YOUR EXERCISE\n",
    "#  OF ANY RIGHTS GRANTED TO YOU FOR THE CODE, CLOUDERA IS NOT LIABLE FOR ANY\n",
    "#  DIRECT, INDIRECT, INCIDENTAL, SPECIAL, EXEMPLARY, PUNITIVE OR\n",
    "#  CONSEQUENTIAL DAMAGES INCLUDING, BUT NOT LIMITED TO, DAMAGES\n",
    "#  RELATED TO LOST REVENUE, LOST PROFITS, LOSS OF INCOME, LOSS OF\n",
    "#  BUSINESS ADVANTAGE OR UNAVAILABILITY, OR LOSS OR CORRUPTION OF\n",
    "#  DATA.\n",
    "#\n",
    "# #  Author(s): Paul de Fusco\n",
    "#***************************************************************************/"
   ]
  },
  {
   "cell_type": "code",
   "execution_count": 1,
   "id": "dfdd1f48-94ab-4c43-9bb4-ce566f451ce2",
   "metadata": {},
   "outputs": [],
   "source": [
    "import os\n",
    "import numpy as np\n",
    "import pandas as pd\n",
    "from datetime import datetime\n",
    "import dbldatagen as dg\n",
    "import dbldatagen.distributions as dist\n",
    "from dbldatagen import FakerTextFactory, DataGenerator, fakerText\n",
    "from faker.providers import bank, credit_card, currency\n",
    "from pyspark.sql.types import LongType, FloatType, IntegerType, StringType, \\\n",
    "                              DoubleType, BooleanType, ShortType, \\\n",
    "                              TimestampType, DateType, DecimalType, \\\n",
    "                              ByteType, BinaryType, ArrayType, MapType, \\\n",
    "                              StructType, StructField\n",
    "\n",
    "class BankDataGen:\n",
    "\n",
    "    '''Class to Generate Banking Data'''\n",
    "\n",
    "    def __init__(self, spark):\n",
    "        self.spark = spark\n",
    "\n",
    "    def transactionsDataGen(self, shuffle_partitions_requested = 10, partitions_requested = 10, data_rows = 1000000):\n",
    "\n",
    "        # setup use of Faker\n",
    "        FakerTextUS = FakerTextFactory(locale=['en_US'], providers=[bank])\n",
    "\n",
    "        # partition parameters etc.\n",
    "        self.spark.conf.set(\"spark.sql.shuffle.partitions\", shuffle_partitions_requested)\n",
    "\n",
    "        fakerDataspec = (DataGenerator(self.spark, rows=data_rows, partitions=partitions_requested, randomSeed=42)\n",
    "                    .withColumn(\"credit_card_number\", \"int\", minValue=12345678901234, maxValue=-123456789012340, step=1)\n",
    "                    .withColumn(\"credit_card_provider\", text=FakerTextUS(\"credit_card_provider\") )\n",
    "                    .withColumn(\"transaction_type\", \"string\", values=[\"purchase\", \"cash_advance\"], random=True, weights=[9, 1])\n",
    "                    .withColumn(\"event_ts\", \"timestamp\", begin=\"2023-01-01 01:00:00\",end=\"2023-12-31 23:59:00\",interval=\"1 minute\", random=True)\n",
    "                    .withColumn(\"longitude\", \"float\", minValue=-125, maxValue=-66.9345, random=True)\n",
    "                    .withColumn(\"latitude\", \"float\", minValue=24.3963, maxValue=49.3843, random=True)\n",
    "                    .withColumn(\"transaction_currency\", values=[\"USD\", \"EUR\", \"KWD\", \"BHD\", \"GBP\", \"CHF\", \"MEX\"])\n",
    "                    .withColumn(\"transaction_amount\", \"decimal\", minValue=0.01, maxValue=30000, random=True)\n",
    "                    )\n",
    "\n",
    "        df = fakerDataspec.build()\n",
    "\n",
    "        df = df.withColumn('credit_card_number', df['credit_card_number'].cast(StringType()))\n",
    "\n",
    "        return df\n",
    "\n",
    "\n",
    "    def piiDataGen(self, shuffle_partitions_requested = 10, partitions_requested = 10, data_rows = 10000):\n",
    "\n",
    "        # setup use of Faker\n",
    "        FakerTextUS = FakerTextFactory(locale=['en_US'], providers=[bank])\n",
    "\n",
    "        # partition parameters etc.\n",
    "        self.spark.conf.set(\"spark.sql.shuffle.partitions\", shuffle_partitions_requested)\n",
    "\n",
    "        fakerDataspec = (DataGenerator(self.spark, rows=data_rows, partitions=partitions_requested, randomSeed=42)\n",
    "                    .withColumn(\"name\", percentNulls=0.1, text=FakerTextUS(\"name\") )\n",
    "                    .withColumn(\"address\", text=FakerTextUS(\"address\" ))\n",
    "                    .withColumn(\"email\", text=FakerTextUS(\"ascii_company_email\") )\n",
    "                    .withColumn(\"aba_routing\", text=FakerTextUS(\"aba\" ))\n",
    "                    .withColumn(\"bank_country\", text=FakerTextUS(\"bank_country\") )\n",
    "                    .withColumn(\"account_no\", text=FakerTextUS(\"bban\" ))\n",
    "                    .withColumn(\"int_account_no\", text=FakerTextUS(\"iban\") )\n",
    "                    .withColumn(\"swift11\", text=FakerTextUS(\"swift11\" ))\n",
    "                    .withColumn(\"credit_card_number\", \"int\", minValue=12345678901234, maxValue=-123456789012340, step=1)\n",
    "                    )\n",
    "\n",
    "        df = fakerDataspec.build()\n",
    "\n",
    "        df = df.withColumn('credit_card_number', df['credit_card_number'].cast(StringType()))\n",
    "\n",
    "\n",
    "        return df\n",
    "\n",
    "\n",
    "    def sameCardDataGen(self, shuffle_partitions_requested = 10, partitions_requested = 10, data_rows = 10000000):\n",
    "\n",
    "        # setup use of Faker\n",
    "        FakerTextUS = FakerTextFactory(locale=['en_US'], providers=[bank])\n",
    "\n",
    "        # partition parameters etc.\n",
    "        self.spark.conf.set(\"spark.sql.shuffle.partitions\", shuffle_partitions_requested)\n",
    "\n",
    "        fakerDataspec = (DataGenerator(self.spark, rows=data_rows, partitions=partitions_requested, randomSeed=42)\n",
    "                    .withColumn(\"credit_card_number\", \"string\", values=[\"12345678901234\"])\n",
    "                    .withColumn(\"credit_card_provider\", text=FakerTextUS(\"credit_card_provider\") )\n",
    "                    .withColumn(\"transaction_type\", \"string\", values=[\"purchase\", \"cash_advance\"], random=True, weights=[9, 1])\n",
    "                    .withColumn(\"event_ts\", \"timestamp\", begin=\"2023-01-01 01:00:00\",end=\"2023-12-31 23:59:00\",interval=\"1 minute\", random=True)\n",
    "                    .withColumn(\"longitude\", \"float\", minValue=-125, maxValue=-66.9345, random=True)\n",
    "                    .withColumn(\"latitude\", \"float\", minValue=24.3963, maxValue=49.3843, random=True)\n",
    "                    .withColumn(\"transaction_currency\", values=[\"USD\", \"EUR\", \"KWD\", \"BHD\", \"GBP\", \"CHF\", \"MEX\"])\n",
    "                    .withColumn(\"transaction_amount\", \"decimal\", minValue=0.01, maxValue=30000, random=True)\n",
    "                    )\n",
    "\n",
    "        df = fakerDataspec.build()\n",
    "\n",
    "        #df = df.withColumn('credit_card_number', df['credit_card_number'].cast(StringType()))\n",
    "\n",
    "        return df\n",
    "        "
   ]
  },
  {
   "cell_type": "code",
   "execution_count": 2,
   "id": "0487f597-6e82-4c85-8678-793e5c062a80",
   "metadata": {},
   "outputs": [
    {
     "name": "stderr",
     "output_type": "stream",
     "text": [
      "Setting spark.hadoop.yarn.resourcemanager.principal to pauldefusco\n"
     ]
    },
    {
     "name": "stdout",
     "output_type": "stream",
     "text": [
      "Spark Application Id:spark-1814a99a5fd644f79aece1773c8b0471\n"
     ]
    },
    {
     "name": "stderr",
     "output_type": "stream",
     "text": [
      "                                                                                \r"
     ]
    }
   ],
   "source": [
    "import cml.data_v1 as cmldata\n",
    "\n",
    "# Sample in-code customization of spark configurations\n",
    "#from pyspark import SparkContext\n",
    "#SparkContext.setSystemProperty('spark.executor.cores', '1')\n",
    "#SparkContext.setSystemProperty('spark.executor.memory', '2g')\n",
    "\n",
    "CONNECTION_NAME = \"go01-aw-dl\"\n",
    "conn = cmldata.get_connection(CONNECTION_NAME)\n",
    "spark = conn.get_spark_session()\n",
    "\n",
    "myDG = BankDataGen(spark)\n",
    "\n",
    "sameCardDf = myDG.sameCardDataGen()\n",
    "transactionsDf = myDG.transactionsDataGen()\n",
    "\n",
    "allTransDf = sameCardDf.union(transactionsDf)\n",
    "\n",
    "allTransDf.write.format(\"parquet\").mode(\"overwrite\").save(\"s3a://go01-demo/datalake/pdefusco/transactions/\")\n",
    "\n",
    "piiDf = myDG.piiDataGen()\n",
    "piiDf.write.format(\"csv\").option(\"header\",True).mode(\"overwrite\").save(\"s3a://go01-demo/datalake/pdefusco/pii/piiData.csv\")"
   ]
  },
  {
   "cell_type": "code",
   "execution_count": 4,
   "id": "02d3bde1-d85d-42fb-a7d6-d16485ffedb3",
   "metadata": {},
   "outputs": [],
   "source": [
    "#allTransDf.count()"
   ]
  },
  {
   "cell_type": "code",
   "execution_count": 5,
   "id": "35a2f1c2-27d9-48db-a3ec-e11ccfb044b4",
   "metadata": {},
   "outputs": [
    {
     "name": "stderr",
     "output_type": "stream",
     "text": [
      "[Stage 5:================================================>        (17 + 3) / 20]\r"
     ]
    },
    {
     "name": "stdout",
     "output_type": "stream",
     "text": [
      "+------------------+--------+\n",
      "|credit_card_number|   count|\n",
      "+------------------+--------+\n",
      "|    12345678901234|10000000|\n",
      "|        1942892530|       1|\n",
      "|        2045911182|       1|\n",
      "|        2045911183|       1|\n",
      "|        2045911184|       1|\n",
      "|        2045911185|       1|\n",
      "|        2045911186|       1|\n",
      "|        2045911187|       1|\n",
      "|        2045911188|       1|\n",
      "|        2045911189|       1|\n",
      "|        2045911190|       1|\n",
      "|        2045911191|       1|\n",
      "|        2045911192|       1|\n",
      "|        2045911193|       1|\n",
      "|        2045911194|       1|\n",
      "|        2045911195|       1|\n",
      "|        2045911196|       1|\n",
      "|        2045911197|       1|\n",
      "|        2045911198|       1|\n",
      "|        2045911199|       1|\n",
      "+------------------+--------+\n",
      "only showing top 20 rows\n",
      "\n"
     ]
    },
    {
     "name": "stderr",
     "output_type": "stream",
     "text": [
      "                                                                                \r"
     ]
    }
   ],
   "source": [
    "allTransDf.groupBy(\"credit_card_number\").count().orderBy(\"credit_card_number\").show()"
   ]
  },
  {
   "cell_type": "code",
   "execution_count": 6,
   "id": "151331ff-786a-40b2-b0fc-d4a2cd25f3d4",
   "metadata": {},
   "outputs": [
    {
     "name": "stderr",
     "output_type": "stream",
     "text": [
      "                                                                                \r"
     ]
    },
    {
     "name": "stdout",
     "output_type": "stream",
     "text": [
      "+------------------+---------------------------+----------------+-------------------+---------+--------+--------------------+------------------+-----------------+-----------------------------------------------------------+-------------------------------+-----------+------------+------------------+----------------------+-----------+------------------+\n",
      "|credit_card_number|credit_card_provider       |transaction_type|event_ts           |longitude|latitude|transaction_currency|transaction_amount|name             |address                                                    |email                          |aba_routing|bank_country|account_no        |int_account_no        |swift11    |credit_card_number|\n",
      "+------------------+---------------------------+----------------+-------------------+---------+--------+--------------------+------------------+-----------------+-----------------------------------------------------------+-------------------------------+-----------+------------+------------------+----------------------+-----------+------------------+\n",
      "|1942892530        |VISA 13 digit              |purchase        |2023-08-15 00:28:00|-89.0    |39.3963 |USD                 |18575             |Brian Young      |9206 Crystal Drives Suite 337\\nWest Josephtown, WY 75166   |jasonking@garcia.com           |028412544  |GB          |UGRY53054574632783|GB54AVOG45202041009395|NXRKGB2TTVQ|1942892530        |\n",
      "|2045911182        |VISA 13 digit              |purchase        |2023-07-06 00:36:00|-95.0    |36.3963 |EUR                 |15288             |Dana Robinson    |6561 Williams Fords\\nNew Tiffany, MT 26606                 |gbradshaw@cruz.com             |042917216  |GB          |MEJP68413978403835|GB20QARV04000554889919|UXDRGBDRD0X|2045911182        |\n",
      "|2045911183        |American Express           |purchase        |2023-10-31 21:05:00|-77.0    |44.3963 |KWD                 |24975             |Raymond Jones    |92709 Palmer Creek\\nLake Dustinchester, PR 08768           |nmolina@wilcox.org             |016713161  |GB          |BCJN07523692691189|GB33ENJK98146167662542|OIYFGBL8J49|2045911183        |\n",
      "|2045911184        |Discover                   |purchase        |2023-04-07 02:37:00|-110.0   |30.3963 |BHD                 |7897              |William Greene   |43827 Acevedo Square\\nLake Annton, VA 57978                |bishopbrooke@jackson.info      |034911327  |GB          |SZKD05678600570029|GB76JIOJ05421998825253|IDVWGBUHNF3|2045911184        |\n",
      "|2045911185        |American Express           |purchase        |2023-09-02 16:02:00|-86.0    |40.3963 |GBP                 |20108             |Crystal Armstrong|728 Tracy Club Suite 033\\nEast Terry, SD 84303             |vincent62@hernandez.com        |112809335  |GB          |COZE17902678613661|GB36XGYE06018810753583|SZGFGB4WG1G|2045911185        |\n",
      "|2045911186        |JCB 16 digit               |purchase        |2023-07-08 20:16:00|-95.0    |36.3963 |CHF                 |15519             |Jennifer Lane    |5275 Sherry Green Suite 324\\nNorth Kimberly, MT 43436      |carolyn20@bryant.net           |055752947  |GB          |HGBG69806406737922|GB34PVKS14170881324141|YPYMGBGXPX9|2045911186        |\n",
      "|2045911187        |JCB 16 digit               |cash_advance    |2023-12-31 16:29:00|-67.0    |48.3963 |MEX                 |29973             |Tracey Perez     |0926 Miller Dale Apt. 384\\nAllisonville, PW 03421          |melissadoyle@lewis.net         |125202440  |GB          |OKYB78188697834643|GB62UTRY32575593114432|MJNQGB9YLXD|2045911187        |\n",
      "|2045911188        |VISA 16 digit              |purchase        |2023-01-26 13:32:00|-121.0   |26.3963 |USD                 |2098              |null             |583 Wells Inlet\\nEast Sandra, FL 93621                     |wwilliams@rivera-davis.com     |079987138  |GB          |HQHH02426018189307|GB66ZDZW47745409322114|HFGSGB6PJOG|2045911188        |\n",
      "|2045911189        |VISA 16 digit              |cash_advance    |2023-12-20 22:19:00|-69.0    |47.3963 |EUR                 |29089             |Stephen Vargas   |2666 Armstrong Union Suite 960\\nEast Suzannehaven, SC 69125|traviskeller@phillips.net      |125007629  |GB          |MDVO80941751437060|GB55PLKB25236581167512|HEROGB3S5NI|2045911189        |\n",
      "|2045911190        |VISA 16 digit              |purchase        |2023-10-18 12:47:00|-79.0    |43.3963 |KWD                 |23878             |Brian Lawrence   |82617 Cox Wall\\nNorth Melissatown, IA 14457                |wharrell@harmon-alvarado.biz   |052443039  |GB          |DMJT58614645548922|GB35QBOJ63223207899986|LNUHGBDP3V8|2045911190        |\n",
      "|2045911191        |JCB 16 digit               |purchase        |2023-06-13 16:45:00|-99.0    |35.3963 |BHD                 |13452             |Deborah Sampson  |6615 Smith Lake Suite 273\\nLake Timothyview, CT 27886      |debramacias@miller.com         |055567721  |GB          |FKAJ26145379882135|GB29SLRW27354653640211|VLLDGB9LNXP|2045911191        |\n",
      "|2045911192        |VISA 13 digit              |purchase        |2023-09-05 23:49:00|-86.0    |40.3963 |GBP                 |20381             |Brian Cook       |166 Dunn Prairie Suite 140\\nWest Paul, FL 04826            |tiffany95@willis.com           |103455497  |GB          |ZXNT58024576556526|GB54MWAI60109480528789|BZOZGBFJ7O2|2045911192        |\n",
      "|2045911193        |Diners Club / Carte Blanche|purchase        |2023-05-16 22:57:00|-103.0   |33.3963 |CHF                 |11172             |Mario Hayes      |9526 Fletcher Summit\\nPort Paigefort, NM 91865             |christy10@roman-smith.com      |024630265  |GB          |YBAP07170399491868|GB84LEHN89101979176044|YHJAGBN0E0K|2045911193        |\n",
      "|2045911194        |VISA 16 digit              |purchase        |2023-10-31 21:49:00|-77.0    |44.3963 |MEX                 |24977             |Travis Mcdonald  |17692 Griffith Plaza Apt. 524\\nWest Aarontown, IN 58740    |mitchell88@pierce.com          |065552865  |GB          |QXFU38334883179546|GB90EIWS52583672108410|TZNJGBU5FGY|2045911194        |\n",
      "|2045911195        |American Express           |purchase        |2023-10-01 00:20:00|-82.0    |42.3963 |USD                 |22438             |Joshua Jackson   |10891 Walter Haven Apt. 720\\nLake Marcus, LA 32220         |salasdaniel@martinez.com       |111871704  |GB          |XFYZ51113851369682|GB85XHXZ92228391366247|VGZCGBJ67E8|2045911195        |\n",
      "|2045911196        |JCB 16 digit               |purchase        |2023-09-21 09:39:00|-83.0    |41.3963 |EUR                 |21648             |Elizabeth Morgan |07340 Philip Branch Apt. 110\\nHornefurt, GA 42405          |mchan@smith.biz                |058602599  |GB          |EIMF30535028960585|GB30HRVP99930899606685|PSHHGBL0JZ8|2045911196        |\n",
      "|2045911197        |VISA 16 digit              |purchase        |2023-01-06 21:36:00|-124.0   |24.3963 |KWD                 |482               |null             |568 Erik Skyway\\nRhondaton, MN 69964                       |vellis@collins.com             |023998830  |GB          |IYZY99191794074876|GB48LLNP99477867679140|GPNAGBNWOW9|2045911197        |\n",
      "|2045911198        |VISA 16 digit              |purchase        |2023-08-19 05:24:00|-88.0    |39.3963 |BHD                 |18921             |Gerald Walker    |24799 Gibson Pass Suite 316\\nNealville, SD 06979           |lbryant@wilson.org             |022612557  |GB          |UFNU10057904436646|GB29JIPW99266548816728|FSDMGBABMAZ|2045911198        |\n",
      "|2045911199        |American Express           |purchase        |2023-01-28 13:10:00|-121.0   |26.3963 |GBP                 |2261              |null             |283 Patricia Estate Suite 192\\nScottside, ND 45820         |thompsonteresa@gordon-watts.com|068911131  |GB          |ONXR96604942966284|GB85CWLF86805286527530|BFFAGBBSITQ|2045911199        |\n",
      "|2045911200        |Discover                   |purchase        |2023-11-03 05:11:00|-76.0    |44.3963 |CHF                 |25167             |Gabriel Kim      |9787 Monica Land\\nMarymouth, AR 16526                      |tbrown@mitchell-park.com       |030591631  |GB          |EFAQ66342635892048|GB20YQOV30264278477776|PQLRGBH1CEY|2045911200        |\n",
      "+------------------+---------------------------+----------------+-------------------+---------+--------+--------------------+------------------+-----------------+-----------------------------------------------------------+-------------------------------+-----------+------------+------------------+----------------------+-----------+------------------+\n",
      "only showing top 20 rows\n",
      "\n"
     ]
    },
    {
     "name": "stderr",
     "output_type": "stream",
     "text": [
      "                                                                                \r"
     ]
    }
   ],
   "source": [
    "# Inner join\n",
    "transactionsDf.join(piiDf,transactionsDf.credit_card_number ==  piiDf.credit_card_number,\"inner\").show(truncate=False)"
   ]
  },
  {
   "cell_type": "code",
   "execution_count": 7,
   "id": "14369b41-865d-4c2f-bba8-5fed318d9fd2",
   "metadata": {},
   "outputs": [],
   "source": [
    "df_txn_details = (\n",
    "    allTransDf.join(\n",
    "        piiDf,\n",
    "        on=\"credit_card_number\",\n",
    "        how=\"inner\"\n",
    "    )\n",
    ")"
   ]
  },
  {
   "cell_type": "code",
   "execution_count": 8,
   "id": "74abe231-5f52-446b-9d92-f54ecfdcdcd5",
   "metadata": {},
   "outputs": [
    {
     "name": "stdout",
     "output_type": "stream",
     "text": [
      "time taken: 1.1461257934570312\n"
     ]
    }
   ],
   "source": [
    "import time\n",
    "start_time = time.time()\n",
    "df_txn_details.count()\n",
    "print(f\"time taken: {time.time() - start_time}\")"
   ]
  },
  {
   "cell_type": "code",
   "execution_count": null,
   "id": "03cf359e-c6f8-404b-bc95-6b61a470d086",
   "metadata": {},
   "outputs": [],
   "source": []
  }
 ],
 "metadata": {
  "kernelspec": {
   "display_name": "Python 3 (ipykernel)",
   "language": "python",
   "name": "python3"
  },
  "language_info": {
   "codemirror_mode": {
    "name": "ipython",
    "version": 3
   },
   "file_extension": ".py",
   "mimetype": "text/x-python",
   "name": "python",
   "nbconvert_exporter": "python",
   "pygments_lexer": "ipython3",
   "version": "3.10.13"
  }
 },
 "nbformat": 4,
 "nbformat_minor": 5
}
